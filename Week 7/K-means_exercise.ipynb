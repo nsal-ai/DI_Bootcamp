{
 "cells": [
  {
   "cell_type": "markdown",
   "metadata": {},
   "source": [
    "## Implement k-Means clustering"
   ]
  },
  {
   "cell_type": "markdown",
   "metadata": {},
   "source": [
    "# KNN machine learning"
   ]
  },
  {
   "cell_type": "code",
   "execution_count": 42,
   "metadata": {
    "ExecuteTime": {
     "end_time": "2021-05-18T20:40:34.427364Z",
     "start_time": "2021-05-18T20:40:34.424839Z"
    }
   },
   "outputs": [],
   "source": [
    "import numpy as np \n",
    "import pandas as pd\n",
    "from matplotlib import pyplot as plt\n",
    "\n"
   ]
  },
  {
   "cell_type": "code",
   "execution_count": 44,
   "metadata": {},
   "outputs": [],
   "source": [
    "from sklearn.neighbors import KNeighborsClassifier\n",
    "from sklearn.model_selection import train_test_split\n",
    "\n",
    "df = pd.read_csv('https://raw.githubusercontent.com/mwaskom/seaborn-data/master/iris.csv')\n",
    "\n",
    "y = df['species']\n",
    "X = df[['petal_length', 'petal_width']]\n",
    "\n",
    "X_train, X_test, y_train, y_test = train_test_split(X, y, test_size=0.25)\n",
    "\n",
    "knn = KNeighborsClassifier(n_neighbors=5)\n",
    "knn.fit(X_train, y_train)\n",
    "y_pred = knn.predict(X_test)\n"
   ]
  },
  {
   "cell_type": "code",
   "execution_count": 13,
   "metadata": {},
   "outputs": [
    {
     "data": {
      "text/html": [
       "<div>\n",
       "<style scoped>\n",
       "    .dataframe tbody tr th:only-of-type {\n",
       "        vertical-align: middle;\n",
       "    }\n",
       "\n",
       "    .dataframe tbody tr th {\n",
       "        vertical-align: top;\n",
       "    }\n",
       "\n",
       "    .dataframe thead th {\n",
       "        text-align: right;\n",
       "    }\n",
       "</style>\n",
       "<table border=\"1\" class=\"dataframe\">\n",
       "  <thead>\n",
       "    <tr style=\"text-align: right;\">\n",
       "      <th></th>\n",
       "      <th>sepal_length</th>\n",
       "      <th>sepal_width</th>\n",
       "      <th>petal_length</th>\n",
       "      <th>petal_width</th>\n",
       "      <th>species</th>\n",
       "    </tr>\n",
       "  </thead>\n",
       "  <tbody>\n",
       "    <tr>\n",
       "      <th>0</th>\n",
       "      <td>5.1</td>\n",
       "      <td>3.5</td>\n",
       "      <td>1.4</td>\n",
       "      <td>0.2</td>\n",
       "      <td>setosa</td>\n",
       "    </tr>\n",
       "    <tr>\n",
       "      <th>1</th>\n",
       "      <td>4.9</td>\n",
       "      <td>3.0</td>\n",
       "      <td>1.4</td>\n",
       "      <td>0.2</td>\n",
       "      <td>setosa</td>\n",
       "    </tr>\n",
       "    <tr>\n",
       "      <th>2</th>\n",
       "      <td>4.7</td>\n",
       "      <td>3.2</td>\n",
       "      <td>1.3</td>\n",
       "      <td>0.2</td>\n",
       "      <td>setosa</td>\n",
       "    </tr>\n",
       "    <tr>\n",
       "      <th>3</th>\n",
       "      <td>4.6</td>\n",
       "      <td>3.1</td>\n",
       "      <td>1.5</td>\n",
       "      <td>0.2</td>\n",
       "      <td>setosa</td>\n",
       "    </tr>\n",
       "    <tr>\n",
       "      <th>4</th>\n",
       "      <td>5.0</td>\n",
       "      <td>3.6</td>\n",
       "      <td>1.4</td>\n",
       "      <td>0.2</td>\n",
       "      <td>setosa</td>\n",
       "    </tr>\n",
       "  </tbody>\n",
       "</table>\n",
       "</div>"
      ],
      "text/plain": [
       "   sepal_length  sepal_width  petal_length  petal_width species\n",
       "0           5.1          3.5           1.4          0.2  setosa\n",
       "1           4.9          3.0           1.4          0.2  setosa\n",
       "2           4.7          3.2           1.3          0.2  setosa\n",
       "3           4.6          3.1           1.5          0.2  setosa\n",
       "4           5.0          3.6           1.4          0.2  setosa"
      ]
     },
     "execution_count": 13,
     "metadata": {},
     "output_type": "execute_result"
    }
   ],
   "source": [
    "df.head()"
   ]
  },
  {
   "cell_type": "code",
   "execution_count": 14,
   "metadata": {},
   "outputs": [
    {
     "ename": "NameError",
     "evalue": "name 'results' is not defined",
     "output_type": "error",
     "traceback": [
      "\u001b[1;31m---------------------------------------------------------------------------\u001b[0m",
      "\u001b[1;31mNameError\u001b[0m                                 Traceback (most recent call last)",
      "\u001b[1;32m<ipython-input-14-7c9a4e98257a>\u001b[0m in \u001b[0;36m<module>\u001b[1;34m\u001b[0m\n\u001b[1;32m----> 1\u001b[1;33m \u001b[0mresults\u001b[0m\u001b[1;33m[\u001b[0m\u001b[1;34m'y_predict'\u001b[0m\u001b[1;33m]\u001b[0m\u001b[1;33m==\u001b[0m\u001b[0mresults\u001b[0m\u001b[1;33m[\u001b[0m\u001b[1;34m'y-test'\u001b[0m\u001b[1;33m]\u001b[0m\u001b[1;33m\u001b[0m\u001b[1;33m\u001b[0m\u001b[0m\n\u001b[0m",
      "\u001b[1;31mNameError\u001b[0m: name 'results' is not defined"
     ]
    }
   ],
   "source": [
    "(results['y_predict']==results['y-test']).mean()\n",
    "df_species"
   ]
  },
  {
   "cell_type": "markdown",
   "metadata": {},
   "source": [
    "### Preparation: Generate data to use for testing k-means clustering"
   ]
  },
  {
   "cell_type": "code",
   "execution_count": 47,
   "metadata": {},
   "outputs": [],
   "source": [
    "import numpy as np"
   ]
  },
  {
   "cell_type": "code",
   "execution_count": 49,
   "metadata": {},
   "outputs": [
    {
     "name": "stdout",
     "output_type": "stream",
     "text": [
      "[[ 0.2526357  -0.1154126 ]\n",
      " [-0.19642006  0.72543933]\n",
      " [-0.73539604  0.09385315]\n",
      " [ 0.7652332  -1.23277203]\n",
      " [-0.41116698 -1.74426366]]\n"
     ]
    }
   ],
   "source": [
    "x = np.random.randn(300,2)[:5]\n",
    "print(x)\n",
    "\n"
   ]
  },
  {
   "cell_type": "code",
   "execution_count": 57,
   "metadata": {
    "ExecuteTime": {
     "end_time": "2021-05-18T20:40:37.775684Z",
     "start_time": "2021-05-18T20:40:37.565296Z"
    }
   },
   "outputs": [
    {
     "ename": "TypeError",
     "evalue": "scatter() missing 1 required positional argument: 'y'",
     "output_type": "error",
     "traceback": [
      "\u001b[1;31m---------------------------------------------------------------------------\u001b[0m",
      "\u001b[1;31mTypeError\u001b[0m                                 Traceback (most recent call last)",
      "\u001b[1;32m<ipython-input-57-097c82a719b0>\u001b[0m in \u001b[0;36m<module>\u001b[1;34m\u001b[0m\n\u001b[0;32m     13\u001b[0m \u001b[1;31m#[:,0] all data from rows in column 0\u001b[0m\u001b[1;33m\u001b[0m\u001b[1;33m\u001b[0m\u001b[1;33m\u001b[0m\u001b[0m\n\u001b[0;32m     14\u001b[0m \u001b[1;31m#[:,1] all data from rows in column 1\u001b[0m\u001b[1;33m\u001b[0m\u001b[1;33m\u001b[0m\u001b[1;33m\u001b[0m\u001b[0m\n\u001b[1;32m---> 15\u001b[1;33m \u001b[0mplt\u001b[0m\u001b[1;33m.\u001b[0m\u001b[0mscatter\u001b[0m\u001b[1;33m(\u001b[0m\u001b[0mg\u001b[0m\u001b[1;33m)\u001b[0m\u001b[1;33m\u001b[0m\u001b[1;33m\u001b[0m\u001b[0m\n\u001b[0m",
      "\u001b[1;31mTypeError\u001b[0m: scatter() missing 1 required positional argument: 'y'"
     ]
    },
    {
     "data": {
      "image/png": "[encoded data removed]",
      "text/plain": [
       "<Figure size 432x288 with 1 Axes>"
      ]
     },
     "metadata": {
      "needs_background": "light"
     },
     "output_type": "display_data"
    }
   ],
   "source": [
    "# generate random data \n",
    "gt_1 = np.array([1,1])\n",
    "gt_2 = np.array([5,5])\n",
    "gt_3 = np.array([8,1])\n",
    "\n",
    "#random values from normal distribution\n",
    "data_1 = np.random.randn(300,2) + gt_1\n",
    "data_2 = np.random.randn(300,2) + gt_2\n",
    "data_3 = np.random.randn(300,2) + gt_3\n",
    "data = np.concatenate((data_1, data_2, data_3),axis = 0)\n",
    "\n",
    "g = plt.scatter(data[:,0], data[:,1], s=7,c='b')\n",
    "#[:,0] all data from rows in column 0\n",
    "#[:,1] all data from rows in column 1\n",
    "plt.scatter(g)\n"
   ]
  },
  {
   "cell_type": "code",
   "execution_count": 22,
   "metadata": {
    "ExecuteTime": {
     "end_time": "2021-05-18T20:40:38.967546Z",
     "start_time": "2021-05-18T20:40:37.800137Z"
    }
   },
   "outputs": [],
   "source": [
    "# Compare to sklearn.cluster.means\n",
    "from sklearn.cluster import KMeans"
   ]
  },
  {
   "cell_type": "code",
   "execution_count": 23,
   "metadata": {
    "ExecuteTime": {
     "end_time": "2021-05-18T20:40:39.040402Z",
     "start_time": "2021-05-18T20:40:38.994058Z"
    }
   },
   "outputs": [
    {
     "name": "stdout",
     "output_type": "stream",
     "text": [
      "--------------------- KMeans result --------------------\n",
      "1687.3620974662272\n",
      "[[8.00576566 1.04078676]\n",
      " [4.99684918 5.00510282]\n",
      " [0.99067449 0.97576397]]\n"
     ]
    }
   ],
   "source": [
    "#initialize the Kmeans and fit data\n",
    "n_clusters = 2\n",
    "kmeans = KMeans(n_clusters=3, random_state=0).fit(data)\n",
    "print('--------------------- KMeans result --------------------')\n",
    "\n",
    "print(kmeans.inertia_)\n",
    "print(kmeans.cluster_centers_)"
   ]
  },
  {
   "cell_type": "code",
   "execution_count": 24,
   "metadata": {
    "ExecuteTime": {
     "end_time": "2021-05-18T20:40:39.070567Z",
     "start_time": "2021-05-18T20:40:39.067123Z"
    }
   },
   "outputs": [
    {
     "data": {
      "text/plain": [
       "array([8.00576566, 4.99684918, 0.99067449])"
      ]
     },
     "execution_count": 24,
     "metadata": {},
     "output_type": "execute_result"
    }
   ],
   "source": [
    "kmeans.cluster_centers_[:,0]"
   ]
  },
  {
   "cell_type": "code",
   "execution_count": 30,
   "metadata": {
    "ExecuteTime": {
     "end_time": "2021-05-18T20:40:39.350403Z",
     "start_time": "2021-05-18T20:40:39.100387Z"
    }
   },
   "outputs": [
    {
     "data": {
      "image/png": "[encoded data removed]",
      "text/plain": [
       "<Figure size 720x360 with 1 Axes>"
      ]
     },
     "metadata": {
      "needs_background": "light"
     },
     "output_type": "display_data"
    }
   ],
   "source": [
    "data_df = pd.DataFrame(data, columns=['x','y'])\n",
    "data_df['label'] = kmeans.labels_\n",
    "c = ['b', 'g', 'k']\n",
    "plt.figure(figsize=(10,5))\n",
    "\n",
    "for i in range(3):\n",
    "    data_temp = data_df[data_df['label'] == i]\n",
    "    plt.scatter(data_temp['x'], data_temp['y'], s=7, c=c[i], label = f'Label {i}')\n",
    "plt.scatter(kmeans.cluster_centers_[:,0], kmeans.cluster_centers_[:,1], c='r')\n",
    "plt.legend()\n",
    "plt.title('Predicted labels with cluster centers')\n",
    "plt.show()"
   ]
  },
  {
   "cell_type": "markdown",
   "metadata": {
    "ExecuteTime": {
     "end_time": "2021-05-18T20:38:38.142046Z",
     "start_time": "2021-05-18T20:38:38.135267Z"
    }
   },
   "source": [
    "## Choose the best number of clusters\n",
    "\n"
   ]
  },
  {
   "cell_type": "code",
   "execution_count": null,
   "metadata": {},
   "outputs": [],
   "source": [
    "# Plot the WCSS according to the number of clusters\n",
    "#WCSS (.inertia_kmeans) is the sum of the distance of each data with its center"
   ]
  },
  {
   "cell_type": "code",
   "execution_count": 41,
   "metadata": {
    "ExecuteTime": {
     "end_time": "2021-05-18T20:45:07.759517Z",
     "start_time": "2021-05-18T20:45:05.967187Z"
    }
   },
   "outputs": [
    {
     "name": "stdout",
     "output_type": "stream",
     "text": [
      "--------------------- KMeans result 3 clusters --------------------\n",
      "1687.3620974662272\n",
      "--------------------- KMeans result 6 clusters --------------------\n",
      "1093.2857307683792\n",
      "--------------------- KMeans result 9 clusters --------------------\n",
      "741.3332650690747\n",
      "--------------------- KMeans result 12 clusters --------------------\n",
      "587.0162942552147\n",
      "--------------------- KMeans result 15 clusters --------------------\n",
      "475.6364222264375\n",
      "--------------------- KMeans result 18 clusters --------------------\n",
      "392.89291702343274\n",
      "--------------------- KMeans result 21 clusters --------------------\n",
      "333.08259851570796\n",
      "--------------------- KMeans result 24 clusters --------------------\n",
      "296.96942212700685\n",
      "--------------------- KMeans result 27 clusters --------------------\n",
      "262.81717905216414\n",
      "--------------------- KMeans result 30 clusters --------------------\n",
      "233.43189111012094\n",
      "--------------------- KMeans result 33 clusters --------------------\n",
      "213.14104030864573\n",
      "--------------------- KMeans result 36 clusters --------------------\n",
      "195.79218397627804\n",
      "--------------------- KMeans result 39 clusters --------------------\n",
      "179.1234196713606\n"
     ]
    }
   ],
   "source": [
    "for k in range(3,40,3):\n",
    "    kmeans = KMeans(n_clusters=k, random_state=0).fit(data)\n",
    "    print(f'--------------------- KMeans result {k} clusters --------------------')\n",
    "    print(kmeans.inertia_)"
   ]
  },
  {
   "cell_type": "code",
   "execution_count": 28,
   "metadata": {},
   "outputs": [],
   "source": [
    "x_clusters = [x for x in range(3,40,3)]\n",
    "y_wcss = [KMeans(n_clusters=k, random_state=0).fit(data).inertia_ for k in x_clusters]\n",
    "   "
   ]
  },
  {
   "cell_type": "code",
   "execution_count": 29,
   "metadata": {},
   "outputs": [
    {
     "data": {
      "image/png": "[encoded data removed]",
      "text/plain": [
       "<Figure size 432x288 with 1 Axes>"
      ]
     },
     "metadata": {
      "needs_background": "light"
     },
     "output_type": "display_data"
    }
   ],
   "source": [
    "plt.plot(x_clusters, y_wcss, label='WCSS')\n",
    "plt.title('WCSS relative to the number of clusters')\n",
    "plt.xlabel('clusters')\n",
    "plt.ylabel('WCSS')\n",
    "plt.legend()\n",
    "plt.show()"
   ]
  },
  {
   "cell_type": "code",
   "execution_count": 1,
   "metadata": {
    "ExecuteTime": {
     "end_time": "2021-05-18T19:59:02.326822Z",
     "start_time": "2021-05-18T19:59:02.324303Z"
    }
   },
   "outputs": [],
   "source": [
    "# Now let's compute the WSS"
   ]
  },
  {
   "cell_type": "code",
   "execution_count": 30,
   "metadata": {
    "ExecuteTime": {
     "end_time": "2021-05-18T20:08:29.789236Z",
     "start_time": "2021-05-18T20:08:29.787092Z"
    }
   },
   "outputs": [],
   "source": [
    "# First create a function that compute the distance between two points\n",
    "# See the formula below\n",
    "def distance_2_points(x,y):\n",
    "    return math.sqrt((x[0]))\n",
    "    "
   ]
  },
  {
   "cell_type": "code",
   "execution_count": 32,
   "metadata": {},
   "outputs": [
    {
     "data": {
      "text/plain": [
       "5.656854249492381"
      ]
     },
     "execution_count": 32,
     "metadata": {},
     "output_type": "execute_result"
    }
   ],
   "source": [
    "x1 = np.array([[1,1]])\n",
    "x2 = np.array([[5,5]])\n",
    "pow(pow((x1-x2),2).sum(),1/2)\n",
    "\n",
    "#can compute a number of points and 1 center"
   ]
  },
  {
   "cell_type": "code",
   "execution_count": 33,
   "metadata": {},
   "outputs": [
    {
     "data": {
      "text/plain": [
       "(900, 2)"
      ]
     },
     "execution_count": 33,
     "metadata": {},
     "output_type": "execute_result"
    }
   ],
   "source": [
    "data.shape"
   ]
  },
  {
   "cell_type": "code",
   "execution_count": 40,
   "metadata": {},
   "outputs": [
    {
     "data": {
      "text/plain": [
       "136.95405037315328"
      ]
     },
     "execution_count": 40,
     "metadata": {},
     "output_type": "execute_result"
    }
   ],
   "source": [
    "data\n",
    "center = [[5,5]]\n",
    "def wcss_0(data, center=[5,5]): \n",
    "    return pow(pow((data-center),2).sum(),1/2)\n",
    "wcss_0(data)"
   ]
  },
  {
   "cell_type": "markdown",
   "metadata": {},
   "source": [
    "Euclidian distance between two points\n",
    "\n",
    "$ X_1: (x_1, y_1), X_2: (x_2, y_2) $ \n",
    "\n",
    "$ distance = \\sqrt((x_2 - x_1)^2 + (y_2 - y_1)^2) $\n"
   ]
  },
  {
   "cell_type": "code",
   "execution_count": 4,
   "metadata": {
    "ExecuteTime": {
     "end_time": "2021-05-18T20:15:07.570124Z",
     "start_time": "2021-05-18T20:15:07.564572Z"
    }
   },
   "outputs": [],
   "source": [
    "def distance_2_points(x,y):\n",
    "    return None"
   ]
  },
  {
   "cell_type": "code",
   "execution_count": 12,
   "metadata": {
    "ExecuteTime": {
     "end_time": "2021-05-18T20:22:52.667178Z",
     "start_time": "2021-05-18T20:22:52.665199Z"
    }
   },
   "outputs": [],
   "source": [
    "# Now compute the distance between the point (5,5) and all data points\n",
    "# Hint: Use broadcasting of arrays in numpy and np.sum."
   ]
  },
  {
   "cell_type": "code",
   "execution_count": 21,
   "metadata": {
    "ExecuteTime": {
     "end_time": "2021-05-18T20:26:21.297133Z",
     "start_time": "2021-05-18T20:26:21.282528Z"
    }
   },
   "outputs": [
    {
     "name": "stdout",
     "output_type": "stream",
     "text": [
      "Before: \n",
      " [[ 0.1617298  -0.4917315 ]\n",
      " [ 1.00569293  0.10444564]\n",
      " [ 1.05930496  1.23895125]\n",
      " [ 2.308823    2.3432443 ]\n",
      " [ 2.44646892  3.84868075]] \n",
      " \n",
      " After broadcasting [[5,5]]: \n",
      " \n",
      " [[-4.8382702  -5.4917315 ]\n",
      " [-3.99430707 -4.89555436]\n",
      " [-3.94069504 -3.76104875]\n",
      " ...\n",
      " [ 1.482286   -5.33292895]\n",
      " [ 2.31333378 -4.77308655]\n",
      " [ 2.17392107 -5.36162727]]\n"
     ]
    }
   ],
   "source": [
    "print(f\"Before: \\n {data[:5]} \\n \\n After broadcasting [[5,5]]: \\n \\n {data - [[5,5]]}\")"
   ]
  },
  {
   "cell_type": "code",
   "execution_count": 7,
   "metadata": {
    "ExecuteTime": {
     "end_time": "2021-05-18T20:21:51.839503Z",
     "start_time": "2021-05-18T20:21:51.834416Z"
    }
   },
   "outputs": [],
   "source": [
    "def wcss_0(data, center = [[5,5]]):\n",
    "    return None"
   ]
  },
  {
   "cell_type": "code",
   "execution_count": 22,
   "metadata": {
    "ExecuteTime": {
     "end_time": "2021-05-18T20:28:27.341928Z",
     "start_time": "2021-05-18T20:28:27.337781Z"
    }
   },
   "outputs": [],
   "source": [
    "# Now compute the wcss given by the model above.\n",
    "def wcss(data, label, centers):\n",
    "    return None\n",
    "    "
   ]
  }
 ],
 "metadata": {
  "kernelspec": {
   "display_name": "Python 3",
   "language": "python",
   "name": "python3"
  },
  "language_info": {
   "codemirror_mode": {
    "name": "ipython",
    "version": 3
   },
   "file_extension": ".py",
   "mimetype": "text/x-python",
   "name": "python",
   "nbconvert_exporter": "python",
   "pygments_lexer": "ipython3",
   "version": "3.8.8"
  },
  "toc": {
   "base_numbering": 1,
   "nav_menu": {},
   "number_sections": true,
   "sideBar": true,
   "skip_h1_title": false,
   "title_cell": "Table of Contents",
   "title_sidebar": "Contents",
   "toc_cell": false,
   "toc_position": {},
   "toc_section_display": true,
   "toc_window_display": false
  },
  "varInspector": {
   "cols": {
    "lenName": 16,
    "lenType": 16,
    "lenVar": 40
   },
   "kernels_config": {
    "python": {
     "delete_cmd_postfix": "",
     "delete_cmd_prefix": "del ",
     "library": "var_list.py",
     "varRefreshCmd": "print(var_dic_list())"
    },
    "r": {
     "delete_cmd_postfix": ") ",
     "delete_cmd_prefix": "rm(",
     "library": "var_list.r",
     "varRefreshCmd": "cat(var_dic_list()) "
    }
   },
   "types_to_exclude": [
    "module",
    "function",
    "builtin_function_or_method",
    "instance",
    "_Feature"
   ],
   "window_display": false
  }
 },
 "nbformat": 4,
 "nbformat_minor": 2
}
